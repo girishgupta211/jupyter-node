{
 "cells": [
  {
   "cell_type": "markdown",
   "id": "b2eed648",
   "metadata": {},
   "source": [
    "## Data Dictionary <br>\n",
    "\n",
    "`S.No.` : Serial Number <br>\n",
    "`Name` : Name of the car which includes Brand name and Model name<br>\n",
    "`Location` : The location in which the car is being sold or is available for purchase Cities<br>\n",
    "`Year` : Manufacturing year of the car<br>\n",
    "`Kilometers_driven` : The total kilometers driven in the car by the previous owner(s) in KM.<br>\n",
    "`Fuel_Type` : The type of fuel used by the car. (Petrol, Diesel, Electric, CNG, LPG)<br>\n",
    "`Transmission` : The type of transmission used by the car. (Automatic / Manual)<br>\n",
    "`Owner` : Type of ownership<br>\n",
    "`Mileage` : The standard mileage offered by the car company in kmpl or km/kg<br>\n",
    "`Engine` : The displacement volume of the engine in CC.<br>\n",
    "`Power` : The maximum power of the engine in bhp.<br>\n",
    "`Seats` : The number of seats in the car.<br>\n",
    "`New_Price` : The price of a new car of the same model in INR Lakhs.(1 Lakh = 100, 000)<br>\n",
    "`Price` : The price of the used car in INR Lakhs (1 Lakh = 100, 000)<br>"
   ]
  },
  {
   "cell_type": "code",
   "execution_count": null,
   "id": "d456ba79",
   "metadata": {},
   "outputs": [],
   "source": [
    "import pandas as pd\n",
    "\n",
    "import csv\n",
    "\n",
    "with open(\"dataset.csv\",\"r\")as file:\n",
    "\n",
    "    reader=csv.reader(file) \n",
    "df=pd.read_csv(\"dataset.csv\")\n",
    "\n",
    "df.head()"
   ]
  },
  {
   "cell_type": "markdown",
   "id": "34baa481",
   "metadata": {},
   "source": [
    "# SECTION A: 20 MARKS"
   ]
  },
  {
   "cell_type": "markdown",
   "id": "ae1a588a",
   "metadata": {},
   "source": [
    "### 1. Explain the different encoding techniques.  (8 Marks)"
   ]
  },
  {
   "cell_type": "markdown",
   "id": "4b9391d7",
   "metadata": {},
   "source": [
    "### 2. Read the dataset and answer the questions below\n",
    "  \n",
    " A) Display the categorical and Numerical columns? (1 Marks)\n",
    "  \n",
    " B) Check if there any mismatch in the data values and the Data type of the column. Convert the columns in other datatype if required (2 Marks)\n",
    "\n",
    " C) Drop the reduntant / unwanted columns from the dataframe (2 Marks)\n",
    "\n",
    " D) Display the sub categories and their percentage for each of the categorical column (2 Marks)\n",
    " \n"
   ]
  },
  {
   "cell_type": "markdown",
   "id": "42ad29f4",
   "metadata": {},
   "source": [
    "### 3. Read the App store dataset and answer the questions below\n",
    "\n",
    " A) Display the % of missing values in each column.(1 marks)\n",
    " \n",
    " B) Convert mileage,engine and power to numerical columns.(3 marks)\n",
    "\n",
    " C) Explain the statistical summary of the dataframe (1 Marks)\n",
    " \n",
    " "
   ]
  },
  {
   "cell_type": "markdown",
   "id": "170b677b",
   "metadata": {},
   "source": [
    "# SECTION B: 20 MARKS  (Explain with appropriate plots)"
   ]
  },
  {
   "cell_type": "markdown",
   "id": "bde60b78",
   "metadata": {},
   "source": [
    "A) Find out the data where the mileage is zero and impute it with appropriate values and also find the highest mileage vehicle (3 Marks)\n",
    " \n",
    "B) Find out the data where the seats are zero and impute it with appropriate values (2 Marks)  \n",
    "\n",
    "C) Create two columns 'brand' and 'model' from the column 'name' and convert it to appropriate datatype (4 Marks)\n",
    "\n",
    "D) Convert the repeated brand name to its appropriate brand names after careful observation (2 Marks)\n",
    "\n",
    "E) Visualize the brand with the maximum vehicles sold (2 Marks) \n",
    "\n",
    "F) Which is the highest sold model ? (2 Marks)\n",
    "\n",
    "G) Impute the missing values for 'Engine' , 'Power' , 'Mileage' and for the other numerical columns (5 Marks)\n",
    "\n",
    "\n"
   ]
  },
  {
   "cell_type": "markdown",
   "id": "0df4c19b",
   "metadata": {},
   "source": [
    "# SECTION C: 30 MARKS  (Explain with appropriate plots)"
   ]
  },
  {
   "cell_type": "markdown",
   "id": "b97bd028",
   "metadata": {},
   "source": [
    "A) Convert the fuel type into 'Diesel' , 'Petrol' and 'Other' (3 Marks)\n",
    "\n",
    "B) Convert the seat column with seats above 5 as 'suv' , between 4 and 5 as 'Compact' and 2 as 'Sports'- Explain the distribution with boxplot (4 Marks)\n",
    "\n",
    "C) Bin the locations based on states (3 Marks)\n",
    "\n",
    "D) Explain the difference between Univariate , Bivariate and Multivariate analysis (8 Marks)\n",
    "\n",
    "E) Mention the two kinds of target variables for predictive modeling. (2 Marks)\n",
    "\n",
    "F) How does Price vary based on model Year ? (2 Marks)\n",
    "\n",
    "F) Find out the maximum , average and median price based on the brands (2 Marks)\n",
    "\n",
    "H) Treat the outliers for all the numerical variables (2 Marks)\n",
    "\n",
    "I) Find out the correlation between numerical variables (2 Marks)\n",
    "\n",
    "J) What are the business insights you can get from the plots?  (2 Marks)\n"
   ]
  },
  {
   "cell_type": "code",
   "execution_count": null,
   "id": "1353e490",
   "metadata": {},
   "outputs": [],
   "source": []
  },
  {
   "cell_type": "code",
   "execution_count": null,
   "id": "ae79e22e",
   "metadata": {},
   "outputs": [],
   "source": []
  },
  {
   "cell_type": "code",
   "execution_count": null,
   "id": "d42b2d02",
   "metadata": {},
   "outputs": [],
   "source": []
  },
  {
   "cell_type": "code",
   "execution_count": null,
   "id": "22ccd0ef",
   "metadata": {},
   "outputs": [],
   "source": []
  },
  {
   "cell_type": "code",
   "execution_count": null,
   "id": "09c4731c",
   "metadata": {},
   "outputs": [],
   "source": []
  },
  {
   "cell_type": "code",
   "execution_count": null,
   "id": "cb27d038",
   "metadata": {},
   "outputs": [],
   "source": []
  }
 ],
 "metadata": {
  "kernelspec": {
   "display_name": "Python 3 (ipykernel)",
   "language": "python",
   "name": "python3"
  },
  "language_info": {
   "codemirror_mode": {
    "name": "ipython",
    "version": 3
   },
   "file_extension": ".py",
   "mimetype": "text/x-python",
   "name": "python",
   "nbconvert_exporter": "python",
   "pygments_lexer": "ipython3",
   "version": "3.9.12"
  }
 },
 "nbformat": 4,
 "nbformat_minor": 5
}
